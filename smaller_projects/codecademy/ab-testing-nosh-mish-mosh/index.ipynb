{
 "cells": [
  {
   "cell_type": "code",
   "execution_count": 1,
   "metadata": {},
   "outputs": [],
   "source": [
    "import noshmishmosh\n",
    "import numpy as np\n",
    "import pandas as pd\n",
    "import seaborn as sns"
   ]
  },
  {
   "cell_type": "markdown",
   "metadata": {},
   "source": [
    "Nosh Mish Mosh wants to run an experiment to see if we can convince more people to purchase meal plans if we use a more artisanal-looking vegetable selection. We’ve photographed these modern meals with blush tomatoes and graffiti eggplants, but aren’t sure if this strategy will sell enough units to benefit from establishing a business relationship with a new provider.\n",
    "\n",
    "Before running this experiment, of course, we need to know the *sample size* that will be required to detect the difference we are hoping for. There are three things we need to know before we can determine that number.\n",
    "\n",
    "* the Baseline Conversion Rate\n",
    "* Minimum Detectable Effect (desired lift)\n",
    "* and the Statistical Significance Threshold\n"
   ]
  },
  {
   "cell_type": "markdown",
   "metadata": {},
   "source": [
    "Interesting to note that this is a python module. \n",
    "\n",
    "You can import the module.\n",
    "\n",
    "Then use dir() to see what is inside the module. \n",
    "\n",
    "You have to pass specific data structures within the module to pandas in order to use it as a dataframe. "
   ]
  },
  {
   "cell_type": "code",
   "execution_count": 7,
   "metadata": {},
   "outputs": [
    {
     "data": {
      "text/plain": [
       "['__builtins__',\n",
       " '__cached__',\n",
       " '__doc__',\n",
       " '__file__',\n",
       " '__loader__',\n",
       " '__name__',\n",
       " '__package__',\n",
       " '__spec__',\n",
       " 'customer_visits',\n",
       " 'money_spent',\n",
       " 'purchasing_customers']"
      ]
     },
     "execution_count": 7,
     "metadata": {},
     "output_type": "execute_result"
    }
   ],
   "source": [
    "noshmishmosh\n",
    "\n",
    "# list what's inside python module\n",
    "dir(noshmishmosh)"
   ]
  },
  {
   "cell_type": "code",
   "execution_count": 15,
   "metadata": {},
   "outputs": [],
   "source": [
    "# import py file as dataframe\n",
    "all_visitors = pd.DataFrame(noshmishmosh.customer_visits)\n",
    "paying_visitors = pd.DataFrame(noshmishmosh.purchasing_customers)\n",
    "\n",
    "# total_visitor_count\n",
    "total_visitor_count = len(all_visitors) \n",
    "paying_visitor_count = len(paying_visitors)"
   ]
  },
  {
   "cell_type": "code",
   "execution_count": 16,
   "metadata": {},
   "outputs": [
    {
     "data": {
      "text/plain": [
       "18.6"
      ]
     },
     "execution_count": 16,
     "metadata": {},
     "output_type": "execute_result"
    }
   ],
   "source": [
    "baseline_percent = 100 * paying_visitor_count / total_visitor_count\n",
    "baseline_percent"
   ]
  },
  {
   "cell_type": "code",
   "execution_count": 13,
   "metadata": {},
   "outputs": [
    {
     "data": {
      "text/html": [
       "<div>\n",
       "<style scoped>\n",
       "    .dataframe tbody tr th:only-of-type {\n",
       "        vertical-align: middle;\n",
       "    }\n",
       "\n",
       "    .dataframe tbody tr th {\n",
       "        vertical-align: top;\n",
       "    }\n",
       "\n",
       "    .dataframe thead th {\n",
       "        text-align: right;\n",
       "    }\n",
       "</style>\n",
       "<table border=\"1\" class=\"dataframe\">\n",
       "  <thead>\n",
       "    <tr style=\"text-align: right;\">\n",
       "      <th></th>\n",
       "      <th>purchased</th>\n",
       "      <th>clickedthrough</th>\n",
       "      <th>id</th>\n",
       "      <th>moneyspent</th>\n",
       "      <th>name</th>\n",
       "    </tr>\n",
       "  </thead>\n",
       "  <tbody>\n",
       "    <tr>\n",
       "      <th>0</th>\n",
       "      <td>False</td>\n",
       "      <td>True</td>\n",
       "      <td>83421</td>\n",
       "      <td>0.00</td>\n",
       "      <td>Michael Todd</td>\n",
       "    </tr>\n",
       "    <tr>\n",
       "      <th>1</th>\n",
       "      <td>False</td>\n",
       "      <td>True</td>\n",
       "      <td>46042</td>\n",
       "      <td>0.00</td>\n",
       "      <td>Brianna Harmon</td>\n",
       "    </tr>\n",
       "    <tr>\n",
       "      <th>2</th>\n",
       "      <td>False</td>\n",
       "      <td>False</td>\n",
       "      <td>23766</td>\n",
       "      <td>0.00</td>\n",
       "      <td>Mario Arnold</td>\n",
       "    </tr>\n",
       "    <tr>\n",
       "      <th>3</th>\n",
       "      <td>False</td>\n",
       "      <td>False</td>\n",
       "      <td>20859</td>\n",
       "      <td>0.00</td>\n",
       "      <td>Paul Quinn</td>\n",
       "    </tr>\n",
       "    <tr>\n",
       "      <th>4</th>\n",
       "      <td>False</td>\n",
       "      <td>True</td>\n",
       "      <td>57771</td>\n",
       "      <td>0.00</td>\n",
       "      <td>Jerome Moore</td>\n",
       "    </tr>\n",
       "    <tr>\n",
       "      <th>...</th>\n",
       "      <td>...</td>\n",
       "      <td>...</td>\n",
       "      <td>...</td>\n",
       "      <td>...</td>\n",
       "      <td>...</td>\n",
       "    </tr>\n",
       "    <tr>\n",
       "      <th>495</th>\n",
       "      <td>False</td>\n",
       "      <td>False</td>\n",
       "      <td>98100</td>\n",
       "      <td>0.00</td>\n",
       "      <td>Megan Pearson</td>\n",
       "    </tr>\n",
       "    <tr>\n",
       "      <th>496</th>\n",
       "      <td>False</td>\n",
       "      <td>False</td>\n",
       "      <td>16077</td>\n",
       "      <td>0.00</td>\n",
       "      <td>Bryan Wallace</td>\n",
       "    </tr>\n",
       "    <tr>\n",
       "      <th>497</th>\n",
       "      <td>True</td>\n",
       "      <td>True</td>\n",
       "      <td>29577</td>\n",
       "      <td>25.52</td>\n",
       "      <td>Alec Lewis</td>\n",
       "    </tr>\n",
       "    <tr>\n",
       "      <th>498</th>\n",
       "      <td>False</td>\n",
       "      <td>False</td>\n",
       "      <td>18685</td>\n",
       "      <td>0.00</td>\n",
       "      <td>John Smith</td>\n",
       "    </tr>\n",
       "    <tr>\n",
       "      <th>499</th>\n",
       "      <td>False</td>\n",
       "      <td>True</td>\n",
       "      <td>27933</td>\n",
       "      <td>0.00</td>\n",
       "      <td>Joshua Spears</td>\n",
       "    </tr>\n",
       "  </tbody>\n",
       "</table>\n",
       "<p>500 rows × 5 columns</p>\n",
       "</div>"
      ],
      "text/plain": [
       "     purchased  clickedthrough     id  moneyspent            name\n",
       "0        False            True  83421        0.00    Michael Todd\n",
       "1        False            True  46042        0.00  Brianna Harmon\n",
       "2        False           False  23766        0.00    Mario Arnold\n",
       "3        False           False  20859        0.00      Paul Quinn\n",
       "4        False            True  57771        0.00    Jerome Moore\n",
       "..         ...             ...    ...         ...             ...\n",
       "495      False           False  98100        0.00   Megan Pearson\n",
       "496      False           False  16077        0.00   Bryan Wallace\n",
       "497       True            True  29577       25.52      Alec Lewis\n",
       "498      False           False  18685        0.00      John Smith\n",
       "499      False            True  27933        0.00   Joshua Spears\n",
       "\n",
       "[500 rows x 5 columns]"
      ]
     },
     "execution_count": 13,
     "metadata": {},
     "output_type": "execute_result"
    }
   ],
   "source": [
    "all_visitors"
   ]
  },
  {
   "cell_type": "code",
   "execution_count": 14,
   "metadata": {},
   "outputs": [
    {
     "data": {
      "text/html": [
       "<div>\n",
       "<style scoped>\n",
       "    .dataframe tbody tr th:only-of-type {\n",
       "        vertical-align: middle;\n",
       "    }\n",
       "\n",
       "    .dataframe tbody tr th {\n",
       "        vertical-align: top;\n",
       "    }\n",
       "\n",
       "    .dataframe thead th {\n",
       "        text-align: right;\n",
       "    }\n",
       "</style>\n",
       "<table border=\"1\" class=\"dataframe\">\n",
       "  <thead>\n",
       "    <tr style=\"text-align: right;\">\n",
       "      <th></th>\n",
       "      <th>purchased</th>\n",
       "      <th>clickedthrough</th>\n",
       "      <th>id</th>\n",
       "      <th>moneyspent</th>\n",
       "      <th>name</th>\n",
       "    </tr>\n",
       "  </thead>\n",
       "  <tbody>\n",
       "    <tr>\n",
       "      <th>0</th>\n",
       "      <td>True</td>\n",
       "      <td>True</td>\n",
       "      <td>15153</td>\n",
       "      <td>39.01</td>\n",
       "      <td>Jacob Harmon</td>\n",
       "    </tr>\n",
       "    <tr>\n",
       "      <th>1</th>\n",
       "      <td>True</td>\n",
       "      <td>True</td>\n",
       "      <td>74271</td>\n",
       "      <td>10.16</td>\n",
       "      <td>Wayne Potter</td>\n",
       "    </tr>\n",
       "    <tr>\n",
       "      <th>2</th>\n",
       "      <td>True</td>\n",
       "      <td>True</td>\n",
       "      <td>83489</td>\n",
       "      <td>36.88</td>\n",
       "      <td>Jimmy Carrillo</td>\n",
       "    </tr>\n",
       "    <tr>\n",
       "      <th>3</th>\n",
       "      <td>True</td>\n",
       "      <td>True</td>\n",
       "      <td>33246</td>\n",
       "      <td>23.41</td>\n",
       "      <td>Kara Davis</td>\n",
       "    </tr>\n",
       "    <tr>\n",
       "      <th>4</th>\n",
       "      <td>True</td>\n",
       "      <td>True</td>\n",
       "      <td>29847</td>\n",
       "      <td>33.49</td>\n",
       "      <td>Mr. Brett Roberts</td>\n",
       "    </tr>\n",
       "    <tr>\n",
       "      <th>...</th>\n",
       "      <td>...</td>\n",
       "      <td>...</td>\n",
       "      <td>...</td>\n",
       "      <td>...</td>\n",
       "      <td>...</td>\n",
       "    </tr>\n",
       "    <tr>\n",
       "      <th>88</th>\n",
       "      <td>True</td>\n",
       "      <td>True</td>\n",
       "      <td>26287</td>\n",
       "      <td>12.91</td>\n",
       "      <td>Brenda Fields</td>\n",
       "    </tr>\n",
       "    <tr>\n",
       "      <th>89</th>\n",
       "      <td>True</td>\n",
       "      <td>True</td>\n",
       "      <td>80204</td>\n",
       "      <td>30.73</td>\n",
       "      <td>Kara Dixon</td>\n",
       "    </tr>\n",
       "    <tr>\n",
       "      <th>90</th>\n",
       "      <td>True</td>\n",
       "      <td>True</td>\n",
       "      <td>89419</td>\n",
       "      <td>44.59</td>\n",
       "      <td>Adam Thompson</td>\n",
       "    </tr>\n",
       "    <tr>\n",
       "      <th>91</th>\n",
       "      <td>True</td>\n",
       "      <td>True</td>\n",
       "      <td>42822</td>\n",
       "      <td>38.53</td>\n",
       "      <td>Aaron Hamilton</td>\n",
       "    </tr>\n",
       "    <tr>\n",
       "      <th>92</th>\n",
       "      <td>True</td>\n",
       "      <td>True</td>\n",
       "      <td>29577</td>\n",
       "      <td>25.52</td>\n",
       "      <td>Alec Lewis</td>\n",
       "    </tr>\n",
       "  </tbody>\n",
       "</table>\n",
       "<p>93 rows × 5 columns</p>\n",
       "</div>"
      ],
      "text/plain": [
       "    purchased  clickedthrough     id  moneyspent               name\n",
       "0        True            True  15153       39.01       Jacob Harmon\n",
       "1        True            True  74271       10.16       Wayne Potter\n",
       "2        True            True  83489       36.88     Jimmy Carrillo\n",
       "3        True            True  33246       23.41         Kara Davis\n",
       "4        True            True  29847       33.49  Mr. Brett Roberts\n",
       "..        ...             ...    ...         ...                ...\n",
       "88       True            True  26287       12.91      Brenda Fields\n",
       "89       True            True  80204       30.73         Kara Dixon\n",
       "90       True            True  89419       44.59      Adam Thompson\n",
       "91       True            True  42822       38.53     Aaron Hamilton\n",
       "92       True            True  29577       25.52         Alec Lewis\n",
       "\n",
       "[93 rows x 5 columns]"
      ]
     },
     "execution_count": 14,
     "metadata": {},
     "output_type": "execute_result"
    }
   ],
   "source": [
    "paying_visitors"
   ]
  },
  {
   "cell_type": "code",
   "execution_count": 17,
   "metadata": {},
   "outputs": [
    {
     "data": {
      "text/html": [
       "<div>\n",
       "<style scoped>\n",
       "    .dataframe tbody tr th:only-of-type {\n",
       "        vertical-align: middle;\n",
       "    }\n",
       "\n",
       "    .dataframe tbody tr th {\n",
       "        vertical-align: top;\n",
       "    }\n",
       "\n",
       "    .dataframe thead th {\n",
       "        text-align: right;\n",
       "    }\n",
       "</style>\n",
       "<table border=\"1\" class=\"dataframe\">\n",
       "  <thead>\n",
       "    <tr style=\"text-align: right;\">\n",
       "      <th></th>\n",
       "      <th>0</th>\n",
       "    </tr>\n",
       "  </thead>\n",
       "  <tbody>\n",
       "    <tr>\n",
       "      <th>0</th>\n",
       "      <td>39.01</td>\n",
       "    </tr>\n",
       "    <tr>\n",
       "      <th>1</th>\n",
       "      <td>10.16</td>\n",
       "    </tr>\n",
       "    <tr>\n",
       "      <th>2</th>\n",
       "      <td>36.88</td>\n",
       "    </tr>\n",
       "    <tr>\n",
       "      <th>3</th>\n",
       "      <td>23.41</td>\n",
       "    </tr>\n",
       "    <tr>\n",
       "      <th>4</th>\n",
       "      <td>33.49</td>\n",
       "    </tr>\n",
       "    <tr>\n",
       "      <th>...</th>\n",
       "      <td>...</td>\n",
       "    </tr>\n",
       "    <tr>\n",
       "      <th>88</th>\n",
       "      <td>12.91</td>\n",
       "    </tr>\n",
       "    <tr>\n",
       "      <th>89</th>\n",
       "      <td>30.73</td>\n",
       "    </tr>\n",
       "    <tr>\n",
       "      <th>90</th>\n",
       "      <td>44.59</td>\n",
       "    </tr>\n",
       "    <tr>\n",
       "      <th>91</th>\n",
       "      <td>38.53</td>\n",
       "    </tr>\n",
       "    <tr>\n",
       "      <th>92</th>\n",
       "      <td>25.52</td>\n",
       "    </tr>\n",
       "  </tbody>\n",
       "</table>\n",
       "<p>93 rows × 1 columns</p>\n",
       "</div>"
      ],
      "text/plain": [
       "        0\n",
       "0   39.01\n",
       "1   10.16\n",
       "2   36.88\n",
       "3   23.41\n",
       "4   33.49\n",
       "..    ...\n",
       "88  12.91\n",
       "89  30.73\n",
       "90  44.59\n",
       "91  38.53\n",
       "92  25.52\n",
       "\n",
       "[93 rows x 1 columns]"
      ]
     },
     "execution_count": 17,
     "metadata": {},
     "output_type": "execute_result"
    }
   ],
   "source": [
    "payment_history = pd.DataFrame(noshmishmosh.money_spent)\n",
    "payment_history"
   ]
  },
  {
   "cell_type": "code",
   "execution_count": 18,
   "metadata": {},
   "outputs": [
    {
     "name": "stderr",
     "output_type": "stream",
     "text": [
      "c:\\Anaconda3\\lib\\site-packages\\numpy\\core\\fromnumeric.py:3430: FutureWarning: In a future version, DataFrame.mean(axis=None) will return a scalar mean over the entire DataFrame. To retain the old behavior, use 'frame.mean(axis=0)' or just 'frame.mean()'\n",
      "  return mean(axis=axis, dtype=dtype, out=out, **kwargs)\n"
     ]
    },
    {
     "data": {
      "text/plain": [
       "0    26.543656\n",
       "dtype: float64"
      ]
     },
     "execution_count": 18,
     "metadata": {},
     "output_type": "execute_result"
    }
   ],
   "source": [
    "# Use numpy to find the average payment\n",
    "# Since this is an array, you can use numpy methods on it. \n",
    "# Using np.mean() will return the average of all the elements in the array.\n",
    "average_payment = np.mean(payment_history)\n",
    "average_payment"
   ]
  },
  {
   "cell_type": "code",
   "execution_count": 32,
   "metadata": {},
   "outputs": [
    {
     "name": "stdout",
     "output_type": "stream",
     "text": [
      "27\n",
      "46.0\n",
      "0    47.0\n",
      "dtype: float64\n"
     ]
    },
    {
     "data": {
      "text/plain": [
       "47"
      ]
     },
     "execution_count": 32,
     "metadata": {},
     "output_type": "execute_result"
    }
   ],
   "source": [
    "print(int(np.ceil(average_payment)))\n",
    "\n",
    "'''So we get an average of 27 dollars for each paying customer.\n",
    "\n",
    "So 27 * x = 1240\n",
    "\n",
    "x = 1240/27\n",
    "'''\n",
    "\n",
    "print(np.ceil(1240/27))\n",
    "\n",
    "# So we need 46 new paying customers to reach a profit of $1240\n",
    "\n",
    "# Actually it's 47. Should have carried the precision until the end of the calculation.\n",
    "\n",
    "new_customers_needed = np.ceil(1240/average_payment)\n",
    "print(new_customers_needed)\n",
    "\n",
    "new_customers_needed = int(new_customers_needed)\n",
    "new_customers_needed"
   ]
  },
  {
   "cell_type": "code",
   "execution_count": 34,
   "metadata": {},
   "outputs": [
    {
     "data": {
      "text/plain": [
       "9.4"
      ]
     },
     "execution_count": 34,
     "metadata": {},
     "output_type": "execute_result"
    }
   ],
   "source": [
    "'''\n",
    "Now find the percent of weekly visitors who must make a purchase in order to make the change worthwhile.\n",
    "\n",
    "Do this by dividing the number of customers by the total visitor count for a typical week (calculated earlier), and multiplying by 100. \n",
    "\n",
    "(number_customres)/(visitor_count) * 100\n",
    "'''\n",
    "percentage_point_increase = new_customers_needed / total_visitor_count * 100\n",
    "percentage_point_increase"
   ]
  },
  {
   "cell_type": "code",
   "execution_count": 35,
   "metadata": {},
   "outputs": [
    {
     "data": {
      "text/plain": [
       "50.53763440860215"
      ]
     },
     "execution_count": 35,
     "metadata": {},
     "output_type": "execute_result"
    }
   ],
   "source": [
    "'''\n",
    "In order to find our minimum detectable effect/desired lift, we need to express percentage_point_increase as a percent of baseline_percent. \n",
    "You can do this by dividing percentage_point_increase by baseline_percent and multiplying by 100.0.\n",
    "'''\n",
    "\n",
    "mde = percentage_point_increase / baseline_percent * 100\n",
    "mde"
   ]
  },
  {
   "cell_type": "code",
   "execution_count": null,
   "metadata": {},
   "outputs": [],
   "source": [
    "# set statistical significance level\n",
    "\n",
    "alpha = 0.1\n",
    "# using an alpha of 10%"
   ]
  }
 ],
 "metadata": {
  "kernelspec": {
   "display_name": "base",
   "language": "python",
   "name": "python3"
  },
  "language_info": {
   "codemirror_mode": {
    "name": "ipython",
    "version": 3
   },
   "file_extension": ".py",
   "mimetype": "text/x-python",
   "name": "python",
   "nbconvert_exporter": "python",
   "pygments_lexer": "ipython3",
   "version": "3.9.16"
  },
  "orig_nbformat": 4
 },
 "nbformat": 4,
 "nbformat_minor": 2
}
