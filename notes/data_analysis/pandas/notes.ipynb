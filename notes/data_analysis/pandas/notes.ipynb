{
 "cells": [
  {
   "cell_type": "markdown",
   "metadata": {},
   "source": [
    "# 2. \n",
    "\n",
    "## Data Visualization\n",
    "\n",
    "- Data visualization is a common task for data scientists. \n",
    "- Python has good library support for data visualization with Matplotlib, Plotly, and Bokeh. \n",
    "- Matplotlib is a powerful and flexible plotting library for creating interactive 2D and 3D plots. \n",
    "- Seaborn is complementary to Matplotlib and specifically targets statistical data visualizations. \n",
    "- Scikit-Learn is a heavily used package for machine learning and offers a consistent interface to common ML algorithms.\n",
    "\n",
    "## Deep Learning - Keras/Tensorflow\n",
    "\n",
    "- Keras is a popular library for building neural networks in Python that builds on top of TensorFlow.\n",
    "- TensorFlow is an open-source library of data flow graph computations designed for heavy duty machine learning and can be used in real-world applications.\n",
    "- TensorFlow's multi-layered nodes system enables quick training of artificial neural networks on big data and powers Google's voice and object recognition.\n",
    "- Keras is easier to use for Python developers and is highly modular and extensible.\n",
    "- Despite its simplicity, Keras is still powerful enough for serious modeling."
   ]
  },
  {
   "cell_type": "code",
   "execution_count": null,
   "metadata": {},
   "outputs": [],
   "source": []
  }
 ],
 "metadata": {
  "language_info": {
   "name": "python"
  },
  "orig_nbformat": 4
 },
 "nbformat": 4,
 "nbformat_minor": 2
}
