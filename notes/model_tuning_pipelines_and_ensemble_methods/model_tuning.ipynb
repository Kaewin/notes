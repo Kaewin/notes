{
 "cells": [
  {
   "attachments": {},
   "cell_type": "markdown",
   "metadata": {},
   "source": [
    "# Model Tuning\n",
    "\n",
    "## Tuning Model Hyperparameters with GridSearchCV\n",
    "\n",
    "- Non-parametric models like decision trees and k-nearest neighbors have various hyperparameters that can be specified.\n",
    "- Hyperparameters help balance the bias-variance trade-off and find the optimal model.\n",
    "- Writing clean, readable code with so many hyperparameter combinations can be difficult.\n",
    "- Scikit-learn has a tool called GridSearchCV for searching through a grid of hyperparameters.\n",
    "- This tool will be introduced in the section.\n",
    "\n",
    "## Pickle and Model Deployment\n",
    "\n",
    "- Shutting down your notebook kernel means your model disappears.\n",
    "- To use the model again, you'd need to re-train it, which is time-consuming.\n",
    "- Pickling your model stores it for later use without needing to re-train.\n",
    "- Pickled models are often used in model deployment and can be used as the backend of an API."
   ]
  },
  {
   "attachments": {},
   "cell_type": "markdown",
   "metadata": {},
   "source": [
    "## Gridsearchcv"
   ]
  },
  {
   "attachments": {},
   "cell_type": "markdown",
   "metadata": {},
   "source": [
    "### Parameter tuning\n",
    "\n",
    "- Building and training a supervised learning model is an iterative process.\n",
    "- Improving model performance can be done by improving or engineering data, or finding good parameters to set when creating the model.\n",
    "- Setting the wrong parameters can cause overfitting or underfitting.\n",
    "- Each modeling problem is unique and requires a different set of parameters.\n",
    "- A combinatorial grid search can be used to find the best combination of parameters for a given model.\n",
    "\n",
    "### Grid search\n",
    "\n",
    "- Setting parameters in a model affects overall model performance\n",
    "- Increasing min_samples_split generally improves model performance up to a certain point\n",
    "- Too low or too high max_depth may lead to overfitting or underfitting\n",
    "- The best combination of parameters can only be determined through exhaustive search or grid search\n",
    "\n",
    "### Use GridSearchCV\n",
    "\n",
    "- The sklearn library provides a way to tune model parameters through an exhaustive search using GridSearchCV.\n",
    "- GridSearchCV combines K-Fold Cross-Validation with a grid search of parameters.\n",
    "- To use GridSearchCV, create a parameter grid dictionary with keys as parameter names and values as values to try.\n",
    "- Pass the parameter grid dictionary to GridSearchCV along with the classifier.\n",
    "- K-fold cross-validation can also be used during this process by specifying the cv parameter.\n",
    "- GridSearchCV will run all combinations of parameters and default to the model with the best score.\n",
    "- Access the best combination of parameters by checking the best_params_ attribute."
   ]
  },
  {
   "cell_type": "code",
   "execution_count": 2,
   "metadata": {},
   "outputs": [
    {
     "ename": "NameError",
     "evalue": "name 'GridSearchCV' is not defined",
     "output_type": "error",
     "traceback": [
      "\u001b[1;31m---------------------------------------------------------------------------\u001b[0m",
      "\u001b[1;31mNameError\u001b[0m                                 Traceback (most recent call last)",
      "\u001b[1;32m<ipython-input-2-31e1fd332587>\u001b[0m in \u001b[0;36m<module>\u001b[1;34m\u001b[0m\n\u001b[0;32m      9\u001b[0m }\n\u001b[0;32m     10\u001b[0m \u001b[1;33m\u001b[0m\u001b[0m\n\u001b[1;32m---> 11\u001b[1;33m \u001b[0mgs_tree\u001b[0m \u001b[1;33m=\u001b[0m \u001b[0mGridSearchCV\u001b[0m\u001b[1;33m(\u001b[0m\u001b[0mclf\u001b[0m\u001b[1;33m,\u001b[0m \u001b[0mparam_grid\u001b[0m\u001b[1;33m,\u001b[0m \u001b[0mcv\u001b[0m\u001b[1;33m=\u001b[0m\u001b[1;36m3\u001b[0m\u001b[1;33m)\u001b[0m\u001b[1;33m\u001b[0m\u001b[1;33m\u001b[0m\u001b[0m\n\u001b[0m\u001b[0;32m     12\u001b[0m \u001b[0mgs_tree\u001b[0m\u001b[1;33m.\u001b[0m\u001b[0mfit\u001b[0m\u001b[1;33m(\u001b[0m\u001b[0mtrain_data\u001b[0m\u001b[1;33m,\u001b[0m \u001b[0mtrain_labels\u001b[0m\u001b[1;33m)\u001b[0m\u001b[1;33m\u001b[0m\u001b[1;33m\u001b[0m\u001b[0m\n\u001b[0;32m     13\u001b[0m \u001b[1;33m\u001b[0m\u001b[0m\n",
      "\u001b[1;31mNameError\u001b[0m: name 'GridSearchCV' is not defined"
     ]
    }
   ],
   "source": [
    "# import decisiontreeclassifier\n",
    "from sklearn.tree import DecisionTreeClassifier\n",
    "clf = DecisionTreeClassifier()\n",
    "\n",
    "param_grid = {\n",
    "    'criterion': ['gini', 'entropy'],\n",
    "    'max_depth': [1, 2, 5, 10],\n",
    "    'min_samples_split': [1, 5, 10, 20]\n",
    "}\n",
    "\n",
    "gs_tree = GridSearchCV(clf, param_grid, cv=3)\n",
    "gs_tree.fit(train_data, train_labels)\n",
    "\n",
    "gs_tree.best_params_"
   ]
  },
  {
   "attachments": {},
   "cell_type": "markdown",
   "metadata": {},
   "source": [
    "### Drawbacks of GridSearchCV\n",
    "\n",
    "- GridSearchCV is useful for finding the best parameter combination.\n",
    "- However, it is only as good as the parameters we put in the grid.\n",
    "- An exhaustive search like GridsearchCV can be very time-consuming and expensive.\n",
    "- For complex models or large datasets, the time needed to run a grid search can be prohibitive.\n",
    "- Be thoughtful about the parameters you set, as the extra runtime may not be worth it."
   ]
  }
 ],
 "metadata": {
  "kernelspec": {
   "display_name": "learn-env",
   "language": "python",
   "name": "python3"
  },
  "language_info": {
   "codemirror_mode": {
    "name": "ipython",
    "version": 3
   },
   "file_extension": ".py",
   "mimetype": "text/x-python",
   "name": "python",
   "nbconvert_exporter": "python",
   "pygments_lexer": "ipython3",
   "version": "3.8.5"
  },
  "orig_nbformat": 4
 },
 "nbformat": 4,
 "nbformat_minor": 2
}
