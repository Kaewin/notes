{
 "cells": [
  {
   "cell_type": "code",
   "execution_count": 13,
   "metadata": {},
   "outputs": [],
   "source": [
    "from vpython import *"
   ]
  },
  {
   "cell_type": "code",
   "execution_count": 14,
   "metadata": {},
   "outputs": [
    {
     "data": {
      "text/html": [
       "<div id=\"glowscript\" class=\"glowscript\"></div>"
      ],
      "text/plain": [
       "<IPython.core.display.HTML object>"
      ]
     },
     "metadata": {},
     "output_type": "display_data"
    },
    {
     "data": {
      "application/javascript": [
       "if (typeof Jupyter !== \"undefined\") { window.__context = { glowscript_container: $(\"#glowscript\").removeAttr(\"id\")};}else{ element.textContent = ' ';}"
      ],
      "text/plain": [
       "<IPython.core.display.Javascript object>"
      ]
     },
     "metadata": {},
     "output_type": "display_data"
    }
   ],
   "source": [
    "#Create a scene for showing the simulation.\n",
    "scene_action = canvas(title='Projectile Motion With Graphs', width=1000, height=400,\n",
    "               center=vector(0,0,0), background=color.white, \n",
    "               align='left',autoscale=False)"
   ]
  },
  {
   "cell_type": "code",
   "execution_count": 15,
   "metadata": {},
   "outputs": [],
   "source": [
    "#Set up the scene.\n",
    "scene_action.forward=vector(0,0,-1) #Set the direction along which you are viewing the scene.\n",
    "scene_action.up=vector(0,1,0) #Set the direction which is \"up\" relative to your computer screen.\n",
    "scene_action.range=17 #Set the horizontal extent of the scene that fits in the viewing window.\n",
    "scene_action.select() #Make the scene \"active\" so that things we draw are placed into this scene."
   ]
  },
  {
   "cell_type": "code",
   "execution_count": 16,
   "metadata": {},
   "outputs": [],
   "source": [
    "#Draw something in the scene.\n",
    "ball = sphere(pos=vector(0,0,0), radius=0.5, texture=textures.wood, make_trail=True)\n",
    "\n",
    "#Draw and label coordinate axes.\n",
    "xaxis = arrow(pos=vector(0,0,0), axis=vector(1,0,0), shaftwidth=0.1, color=color.red)\n",
    "yaxis = arrow(pos=vector(0,0,0), axis=vector(0,1,0), shaftwidth=0.1, color=color.blue)\n",
    "zaxis = arrow(pos=vector(0,0,0), axis=vector(0,0,1), shaftwidth=0.1, color=color.green)\n",
    "\n",
    "text(text='X', pos=vector(1,-0.25,0), height=0.5, color=color.red)\n",
    "text(text='Y', pos=vector(-0.2,1,-0.05), height=0.5, color=color.blue)\n",
    "text(text='Z', pos=vector(-0.1,-0.25,1), height=0.5, color=color.green)"
   ]
  },
  {
   "cell_type": "code",
   "execution_count": 17,
   "metadata": {},
   "outputs": [
    {
     "data": {
      "text/html": [
       "<div id=\"glowscript\" class=\"glowscript\"></div>"
      ],
      "text/plain": [
       "<IPython.core.display.HTML object>"
      ]
     },
     "metadata": {},
     "output_type": "display_data"
    },
    {
     "data": {
      "application/javascript": [
       "if (typeof Jupyter !== \"undefined\") { window.__context = { glowscript_container: $(\"#glowscript\").removeAttr(\"id\")};}else{ element.textContent = ' ';}"
      ],
      "text/plain": [
       "<IPython.core.display.Javascript object>"
      ]
     },
     "metadata": {},
     "output_type": "display_data"
    }
   ],
   "source": [
    "#Set up a scene for plots.\n",
    "scene_plots = canvas(title='xyz Plots', width=300, height=500,\n",
    "               center=vector(0,0,0), background=color.white, \n",
    "               align='left')\n",
    "scene_plots.select() #Recall that this \"activates\" the scene so that things will be drawn in it.\n",
    "\n",
    "#Set up graphs.\n",
    "graph_pos = graph(width=300, height=300, xtitle='t', ytitle='x (red),y (blue),z (green)', align='left')\n",
    "plot_x = gcurve(color=color.red)\n",
    "plot_y = gcurve(color=color.blue)\n",
    "plot_z = gcurve(color=color.green)"
   ]
  },
  {
   "cell_type": "code",
   "execution_count": 18,
   "metadata": {},
   "outputs": [
    {
     "data": {
      "text/html": [
       "<div id=\"glowscript\" class=\"glowscript\"></div>"
      ],
      "text/plain": [
       "<IPython.core.display.HTML object>"
      ]
     },
     "metadata": {},
     "output_type": "display_data"
    },
    {
     "data": {
      "application/javascript": [
       "if (typeof Jupyter !== \"undefined\") { window.__context = { glowscript_container: $(\"#glowscript\").removeAttr(\"id\")};}else{ element.textContent = ' ';}"
      ],
      "text/plain": [
       "<IPython.core.display.Javascript object>"
      ]
     },
     "metadata": {},
     "output_type": "display_data"
    }
   ],
   "source": [
    "#Set up a scene for v-plots.\n",
    "scene_vplots = canvas(title='V-Plots', width=300, height=500,\n",
    "               center=vector(0,0,0), background=color.white, \n",
    "               align='left')\n",
    "scene_vplots.select() #Recall that this \"activates\" the scene so that things will be drawn in it.\n",
    "\n",
    "#Set up graphs.\n",
    "graph_pos = graph(width=300, height=300, xtitle='t (s)', ytitle='Velocity (m/s)', align='left')\n",
    "plot_vx = gcurve(color=color.red)\n",
    "plot_vy = gcurve(color=color.blue)\n",
    "plot_vz = gcurve(color=color.green)"
   ]
  },
  {
   "cell_type": "code",
   "execution_count": 19,
   "metadata": {},
   "outputs": [
    {
     "data": {
      "text/html": [
       "<div id=\"glowscript\" class=\"glowscript\"></div>"
      ],
      "text/plain": [
       "<IPython.core.display.HTML object>"
      ]
     },
     "metadata": {},
     "output_type": "display_data"
    },
    {
     "data": {
      "application/javascript": [
       "if (typeof Jupyter !== \"undefined\") { window.__context = { glowscript_container: $(\"#glowscript\").removeAttr(\"id\")};}else{ element.textContent = ' ';}"
      ],
      "text/plain": [
       "<IPython.core.display.Javascript object>"
      ]
     },
     "metadata": {},
     "output_type": "display_data"
    }
   ],
   "source": [
    "#Set up a scene for v-plots.\n",
    "scene_Eplots = canvas(title='V-Plots', width=300, height=500,\n",
    "               center=vector(0,0,0), background=color.white, \n",
    "               align='left')\n",
    "scene_Eplots.select() #Recall that this \"activates\" the scene so that things will be drawn in it.\n",
    "\n",
    "#Set up graphs.\n",
    "graph_pos = graph(width=300, height=300, xtitle='t (s)', ytitle='Energy (j)', align='left')\n",
    "plot_T = gcurve(color=color.orange)\n",
    "plot_U = gcurve(color=color.yellow)\n",
    "plot_H = gcurve(color=color.red)"
   ]
  },
  {
   "cell_type": "code",
   "execution_count": 20,
   "metadata": {},
   "outputs": [],
   "source": [
    "scene_action.select() #This re-activates our simulation scene so that anything else will be drawn in it."
   ]
  },
  {
   "cell_type": "code",
   "execution_count": 21,
   "metadata": {},
   "outputs": [],
   "source": [
    "#Define physical constants.\n",
    "g = 9.81 #The gravitational constant for earth in [m/s^2].\n",
    "theta_launch_deg = 35.0 #The launch angle in [deg].\n",
    "theta_launch = theta_launch_deg/360.0 * 2.0 * pi #Convert lanuch angle to [rad].\n",
    "v0_mag = 12 #Starting speed in [m/s].\n",
    "m = 1.0 #Object's mass in [kg]\n",
    "\n",
    "#Set initial values.\n",
    "t = 0 #Set the clock to start at zero seconds.\n",
    "r0 = vector(0.0, 0.0, 0.0) #Define the object's initial position as a vector quantity.\n",
    "v0 = vector(v0_mag*cos(theta_launch), v0_mag*sin(theta_launch), 0.0) #Set the object's initial velocity.\n",
    "\n",
    "#Set up simulation parameters.\n",
    "dt = 0.01 #Simulation time step in [s].\n",
    "r, v = r0, v0 #Initialize the simulation parameters."
   ]
  },
  {
   "cell_type": "code",
   "execution_count": 22,
   "metadata": {},
   "outputs": [],
   "source": [
    "#Define the net force acting.\n",
    "def Fnet(v):  #We pass the velocity to the force function since our force depends on velocity.\n",
    "    A = 0.5*pi*pow(0.5,2) #Objecy cross-sectional area.\n",
    "    rho = 1.225 #Air density in [kg/m^3].\n",
    "    C = 0.5 #Drag coefficient (unitless).\n",
    "    Fdrag_mag = 0.5*rho*A*C*v.mag**2 #Calculate the magnitude of the drag force in [N].\n",
    "    vuv = v/v.mag #Calculate a unit vector in the direction of the velocity.\n",
    "#    Fnetx = -vuv.x #* Fdrag_mag #Calculate the x-component of the force.\n",
    "#    Fnety = -m*g - vuv.y #* Fdrag_mag #Calculate the y-component of the force.\n",
    "#    Fnetz = -vuv.z * Fdrag_mag #Calculate the z-component of the force.\n",
    "    \n",
    "    Fnetx = 0 #Calculate the x-component of the force.\n",
    "    Fnety = -m*g #Calculate the y-component of the force.\n",
    "    Fnetz = 0 #Calculate the z-component of the force.\n",
    "    \n",
    "    return vector(Fnetx, Fnety, Fnetz) #Return the force as a vector variable."
   ]
  },
  {
   "cell_type": "code",
   "execution_count": 23,
   "metadata": {},
   "outputs": [
    {
     "name": "stdout",
     "output_type": "stream",
     "text": [
      "Time to ground: t =  0 s | y =  0.0 m | x =  0.0  m\n",
      "Time to ground: t =  0.01 s | y =  0.06784817236212554 m | x =  0.09829824531467901  m\n",
      "Max Height: t =  0.7000000000000004 s |  vy =  0.01591723621256111 m/s | y =  2.380257065348792 m\n",
      "Max Height: t =  0.7100000000000004 s |  vy =  -0.0821827637874389 m/s | y =  2.3794352377109176 m\n",
      "Time to ground: t =  1.380000000000001 s | y =  0.08965478597333379 m | x =  13.56515785342566  m\n",
      "Time to ground: t =  1.390000000000001 s | y =  0.02212495833545948 m | x =  13.663456098740339  m\n",
      "Time to ground: t =  1.400000000000001 s | y =  -0.046385869302414826 m | x =  13.761754344055017  m\n"
     ]
    }
   ],
   "source": [
    "while r.y >= -0.1: #Stop the simulation when the object gets just below ground level.\n",
    "    ball.pos = r #Move the ball to it's current position.\n",
    "\n",
    "    plot_x.plot(pos=(t,r.x)) #Plot a point at (t,r.x) and the \"plot_x\" graph.\n",
    "    plot_y.plot(pos=(t,r.y))\n",
    "    plot_z.plot(pos=(t,r.z))\n",
    "    \n",
    "    plot_vx.plot(pos=(t,v.x)) #Plot a point at (t,r.x) and the \"plot_x\" graph.\n",
    "    plot_vy.plot(pos=(t,v.y))\n",
    "    plot_vz.plot(pos=(t,v.z))\n",
    "    \n",
    "    T = (0.5)*m*v.mag**2\n",
    "    U = m*g*r.y\n",
    "    \n",
    "    plot_T.plot(pos=(t,T))\n",
    "    plot_U.plot(pos=(t,U))\n",
    "    plot_H.plot(pos=(t,U+T))\n",
    "\n",
    "    #Report information about the ball\n",
    "    if(v.y < 0.1 and v.y > -0.1):\n",
    "        print('Max Height: t = ',t,'s | ','vy = ', v.y ,'m/s | y = ', r.y ,'m')\n",
    "    if(r.y < 0.1 and r.y > -0.1):\n",
    "        print('Time to ground: t = ' , t , 's | y = ' , r.y , 'm | x = ', r.x ,' m')\n",
    "        \n",
    "    #Use Newton's 2nd Law to update the ball's position and velocity.\n",
    "    t = t + dt #Update the time\n",
    "    f = Fnet(v) #Obtain the net force from the Fnet function\n",
    "    a = f/m #Calculate the acceleration vector.\n",
    "    v = v + a*dt #Update the velocity using the acceleration.\n",
    "    r = r + v*dt #Update the position using the velocity.\n",
    " \n",
    "    sleep(dt)"
   ]
  }
 ],
 "metadata": {
  "kernelspec": {
   "display_name": "Python 3 (ipykernel)",
   "language": "python",
   "name": "python3"
  },
  "language_info": {
   "codemirror_mode": {
    "name": "ipython",
    "version": 3
   },
   "file_extension": ".py",
   "mimetype": "text/x-python",
   "name": "python",
   "nbconvert_exporter": "python",
   "pygments_lexer": "ipython3",
   "version": "3.9.16"
  }
 },
 "nbformat": 4,
 "nbformat_minor": 2
}
