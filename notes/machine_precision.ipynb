{
 "cells": [
  {
   "attachments": {},
   "cell_type": "markdown",
   "metadata": {},
   "source": [
    "# Machine Precision Notes"
   ]
  },
  {
   "attachments": {},
   "cell_type": "markdown",
   "metadata": {},
   "source": [
    "## Paper\n",
    "\n",
    "David Goldberg. 1991. What every computer scientist should know about floating-point arithmetic. ACM Comput. Surv. 23, 1 (March 1991), 5–48. https://doi.org/10.1145/103162.103163"
   ]
  },
  {
   "attachments": {},
   "cell_type": "markdown",
   "metadata": {},
   "source": [
    "- Storing infinitely many real numbers in a finite number of bits requires an approximate representation.\n",
    "- Most programs can store integer computations in 32 bits.\n",
    "- Real number calculations often produce quantities that cannot be exactly represented using a fixed number of bits and must be rounded.\n",
    "- Floating-point computation is characterized by rounding error.\n",
    "- Section 1.2 discusses how rounding error is measured.\n",
    "- Guard digits are a means of reducing error when subtracting nearby numbers.\n",
    "- The IEEE standard gives an algorithm for basic arithmetic operations and requires implementations to produce the same result as that algorithm.\n",
    "- Precise specification simplifies the porting of programs."
   ]
  }
 ],
 "metadata": {
  "kernelspec": {
   "display_name": "learn-env",
   "language": "python",
   "name": "python3"
  },
  "language_info": {
   "codemirror_mode": {
    "name": "ipython",
    "version": 3
   },
   "file_extension": ".py",
   "mimetype": "text/x-python",
   "name": "python",
   "nbconvert_exporter": "python",
   "pygments_lexer": "ipython3",
   "version": "3.8.5"
  },
  "orig_nbformat": 4
 },
 "nbformat": 4,
 "nbformat_minor": 2
}
