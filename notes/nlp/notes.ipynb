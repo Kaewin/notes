{
 "cells": [
  {
   "attachments": {},
   "cell_type": "markdown",
   "metadata": {},
   "source": [
    "Natural Language Processing (NLP) is a field that focuses on enabling computers to interact with human language. It intersects with Computer Science, Artificial Intelligence, Linguistics, and Information Theory. Initially, NLP relied on rule-based algorithms borrowed from linguistics, but it has since shifted towards machine learning and AI approaches, leading to significant advancements.\n",
    "\n",
    "Working with text data requires specific preprocessing steps to prepare it for analysis. A common approach is to create a \"Bag of Words\" by counting the occurrences of each unique word. This allows the text to be treated as a vector, facilitating the application of machine learning algorithms. Preprocessing steps include basic cleaning and tokenization, where punctuation is removed and text is converted to lowercase. Stemming and lemmatization techniques address variations in word forms, reducing words to their root forms. Removing stop words, such as common articles and prepositions, helps reduce the dimensionality of the text data.\n",
    "\n",
    "Vectorization strategies convert text data into numerical vectors. Count vectorization represents text as a matrix of word counts, while TF-IDF vectorization assigns weights to words based on term frequency (TF) and inverse document frequency (IDF). Understanding these foundational concepts enables practitioners to preprocess and transform text data effectively for various NLP tasks, allowing the development of robust models and analyses."
   ]
  }
 ],
 "metadata": {
  "kernelspec": {
   "display_name": "learn-env",
   "language": "python",
   "name": "python3"
  },
  "language_info": {
   "codemirror_mode": {
    "name": "ipython",
    "version": 3
   },
   "file_extension": ".py",
   "mimetype": "text/x-python",
   "name": "python",
   "nbconvert_exporter": "python",
   "pygments_lexer": "ipython3",
   "version": "3.8.5"
  },
  "orig_nbformat": 4
 },
 "nbformat": 4,
 "nbformat_minor": 2
}
