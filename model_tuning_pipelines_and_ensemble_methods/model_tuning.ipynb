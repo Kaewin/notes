{
 "cells": [
  {
   "attachments": {},
   "cell_type": "markdown",
   "metadata": {},
   "source": [
    "# Model Tuning\n",
    "\n",
    "## Tuning Model Hyperparameters with GridSearchCV\n",
    "\n",
    "- Non-parametric models like decision trees and k-nearest neighbors have various hyperparameters that can be specified.\n",
    "- Hyperparameters help balance the bias-variance trade-off and find the optimal model.\n",
    "- Writing clean, readable code with so many hyperparameter combinations can be difficult.\n",
    "- Scikit-learn has a tool called GridSearchCV for searching through a grid of hyperparameters.\n",
    "- This tool will be introduced in the section.\n",
    "\n",
    "## Machine Learning Pipelines\n",
    "\n",
    "- Pipelines are useful for data scientists to transform data, train machine learning models, and make predictions.\n",
    "- The data science process involves several steps, but a streamlined process can be achieved with the Pipeline class in scikit-learn.\n",
    "- Pipelines can integrate multiple steps of the machine learning workflow and allow for comparing different classification techniques.\n",
    "- Grid search can be integrated into the pipeline to tune hyperparameters in each of the machine learning models while avoiding data leakage.\n",
    "\n",
    "## Pickle and Model Deployment\n",
    "\n",
    "- Shutting down your notebook kernel means your model disappears.\n",
    "- To use the model again, you'd need to re-train it, which is time-consuming.\n",
    "- Pickling your model stores it for later use without needing to re-train.\n",
    "- Pickled models are often used in model deployment and can be used as the backend of an API."
   ]
  },
  {
   "cell_type": "code",
   "execution_count": null,
   "metadata": {},
   "outputs": [],
   "source": []
  }
 ],
 "metadata": {
  "language_info": {
   "name": "python"
  },
  "orig_nbformat": 4
 },
 "nbformat": 4,
 "nbformat_minor": 2
}
